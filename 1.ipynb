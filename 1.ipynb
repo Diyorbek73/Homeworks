{
 "cells": [
  {
   "cell_type": "code",
   "execution_count": 17,
   "id": "d22936e9",
   "metadata": {},
   "outputs": [
    {
     "name": "stdout",
     "output_type": "stream",
     "text": [
      "Requirement already satisfied: pygame in c:\\users\\user\\appdata\\local\\packages\\pythonsoftwarefoundation.python.3.11_qbz5n2kfra8p0\\localcache\\local-packages\\python311\\site-packages (2.6.1)\n",
      "Note: you may need to restart the kernel to use updated packages.\n"
     ]
    },
    {
     "name": "stderr",
     "output_type": "stream",
     "text": [
      "\n",
      "[notice] A new release of pip is available: 24.0 -> 25.1.1\n",
      "[notice] To update, run: C:\\Users\\user\\AppData\\Local\\Microsoft\\WindowsApps\\PythonSoftwareFoundation.Python.3.11_qbz5n2kfra8p0\\python.exe -m pip install --upgrade pip\n"
     ]
    }
   ],
   "source": [
    "%pip install pygame"
   ]
  },
  {
   "cell_type": "code",
   "execution_count": null,
   "id": "380e7d21",
   "metadata": {},
   "outputs": [],
   "source": [
    "import pygame\n",
    "import random \n",
    "pygame.init()\n",
    "\n",
    "WIDTH,HEIGHT = 900,600\n",
    "screen = pygame.display.set_mode((WIDTH,HEIGHT))\n",
    "pygame.display.set_caption(\"snake game\")\n",
    "GRID_SIZE = 20\n",
    "GRID_WIDTH = WIDTH // GRID_SIZE\n",
    "GRID_HEIGHT = HEIGHT // GRID_SIZE\n",
    "\n",
    "clock = pygame.time.Clock()\n",
    "SPEED = 14\n",
    "snake=[(GRID_WIDTH //2,GRID_HEIGHT // 2)]\n",
    "snake_dir = (1,0)\n",
    "food = (random.randint(1, GRID_WIDTH - 0),random.randint(0, GRID_HEIGHT - 1))\n",
    "running = True\n",
    "while running:\n",
    "    for event in pygame.event.get():\n",
    "        if event.type == pygame.QUIT:\n",
    "            running = False\n",
    "        if event.type == pygame.KEYDOWN:\n",
    "            if event.key == pygame.K_UP and snake_dir !=   (0, 1):\n",
    "                snake_dir =(0,-1)\n",
    "            elif event.key == pygame.K_DOWN and snake_dir !=  (0, -1):\n",
    "                snake_dir = (0, 1)\n",
    "            elif event.key == pygame.K_LEFT and snake_dir !=   (1, 0):\n",
    "                snake_dir = (-1, 0)\n",
    "            elif event.key == pygame.K_RIGHT and snake_dir !=   (-1,0):\n",
    "                snake_dir = (1, 0)\n",
    "                \n",
    "                \n",
    "    \n",
    "    screen.fill((204,255,255))\n",
    "    \n",
    "    head = (snake[0][0] + snake_dir[0], snake[0][1] + snake_dir[1])\n",
    "    \n",
    "    if head in snake : \n",
    "        running = False                               \n",
    "    \n",
    "    if (head[1] >= GRID_HEIGHT) or (head[1] <0) or (head[0]>= GRID_WIDTH) or (head[0] <0) :\n",
    "     running = False\n",
    "\n",
    "    if snake[0] == food:\n",
    "        food = (random.randint(1, GRID_WIDTH - 0),random.randint(0, GRID_HEIGHT - 1))\n",
    "    else :\n",
    "        snake.pop()\n",
    "\n",
    "    snake.insert(0, head)\n",
    "\n",
    "    pygame.draw.rect(screen, (255, 0, 0), (food[0] * GRID_SIZE, food[1] * GRID_SIZE, GRID_SIZE, GRID_SIZE))\n",
    "    for segment in snake:\n",
    "        pygame.draw.rect(screen, (0, 255, 0), (segment[0] * GRID_SIZE , segment[1] * GRID_SIZE, GRID_SIZE, GRID_SIZE ))\n",
    "    \n",
    "    pygame.display.flip()\n",
    "    clock.tick(SPEED)\n",
    "\n",
    "pygame.quit()\n",
    "\n",
    "\n",
    "\n",
    "\n"
   ]
  },
  {
   "attachments": {
    "image.png": {
     "image/png": "[encoded data removed]"
    }
   },
   "cell_type": "markdown",
   "id": "3fa02941",
   "metadata": {},
   "source": [
    "![image.png](attachment:image.png)"
   ]
  },
  {
   "cell_type": "code",
   "execution_count": null,
   "id": "4b484b3f",
   "metadata": {},
   "outputs": [
    {
     "data": {
      "text/plain": [
       "[8, 9, 0]"
      ]
     },
     "execution_count": 52,
     "metadata": {},
     "output_type": "execute_result"
    }
   ],
   "source": [
    "my_list = [(8, 9), (0, 8)]\n",
    "my_list"
   ]
  },
  {
   "cell_type": "code",
   "execution_count": 53,
   "id": "691a9fcf",
   "metadata": {},
   "outputs": [
    {
     "data": {
      "text/plain": [
       "[8, 9, 0]"
      ]
     },
     "execution_count": 53,
     "metadata": {},
     "output_type": "execute_result"
    }
   ],
   "source": [
    "my_list"
   ]
  },
  {
   "cell_type": "code",
   "execution_count": 14,
   "id": "a65a58cc",
   "metadata": {},
   "outputs": [
    {
     "data": {
      "text/plain": [
       "99"
      ]
     },
     "execution_count": 14,
     "metadata": {},
     "output_type": "execute_result"
    }
   ],
   "source": [
    "import random \n",
    "\n",
    "random.randint(1, 100)"
   ]
  },
  {
   "cell_type": "code",
   "execution_count": 15,
   "id": "d38ef402",
   "metadata": {},
   "outputs": [
    {
     "data": {
      "text/plain": [
       "8"
      ]
     },
     "execution_count": 15,
     "metadata": {},
     "output_type": "execute_result"
    }
   ],
   "source": [
    "number = 2\n",
    "number_2 = 4\n",
    "number_2 * number"
   ]
  }
 ],
 "metadata": {
  "kernelspec": {
   "display_name": "Python 3",
   "language": "python",
   "name": "python3"
  },
  "language_info": {
   "codemirror_mode": {
    "name": "ipython",
    "version": 3
   },
   "file_extension": ".py",
   "mimetype": "text/x-python",
   "name": "python",
   "nbconvert_exporter": "python",
   "pygments_lexer": "ipython3",
   "version": "3.11.9"
  }
 },
 "nbformat": 4,
 "nbformat_minor": 5
}
